{
 "cells": [
  {
   "cell_type": "markdown",
   "metadata": {},
   "source": [
    "# Riot URAP Text Analysis\n",
    "# Word Feature Generation\n",
    "### Author : Jaehyun Sim"
   ]
  },
  {
   "cell_type": "markdown",
   "metadata": {},
   "source": [
    "Import Required libraries"
   ]
  },
  {
   "cell_type": "code",
   "execution_count": 43,
   "metadata": {
    "collapsed": true
   },
   "outputs": [],
   "source": [
    "import sys, getopt, os, csv, re\n",
    "import numpy as np\n",
    "import random\n",
    "import shutil\n",
    "from collections import Counter\n",
    "from multiprocessing import Pool\n",
    "from nltk.stem import *"
   ]
  },
  {
   "cell_type": "markdown",
   "metadata": {},
   "source": [
    "Define all common words and non alphabet characters"
   ]
  },
  {
   "cell_type": "code",
   "execution_count": 2,
   "metadata": {
    "collapsed": false
   },
   "outputs": [],
   "source": [
    "non_alphabet_char = [\",\", \".\", \"\\'\", \"\\\"\", \"\\n\", \"\\r\", \"?\", \"!\", \"[\", \"]\", \"(\", \")\", \"{\", \"}\", \"-\", \"_\", \\\n",
    "                     \"#\", \"~\", \"`\", \"@\", \"$\", \"%\", \"^\", \"&\", \"*\", \"+\", \"=\", \"<\", \">\", \"/\", \":\", \";\", \"|\", \\\n",
    "                     \"■\", \"•\", \"\\\\\", \"\\ufeff\", \"“\", \"’\", \"®\", \"©\", \"—\", \"”\"]\n",
    "\n",
    "common_words_list = ['a', 'able', 'about', 'across', 'after', 'all',\\\n",
    "                    'almost', 'also', 'am', 'among', 'an', 'and', 'any',\\\n",
    "                    'are','as', 'at', 'be', 'because', 'been', 'but', 'by',\\\n",
    "                    'can', 'cannot', 'could', 'dear', 'did', 'do', 'does',\\\n",
    "                    'either', 'else', 'ever', 'every', 'for', 'from', 'get', 'got',\\\n",
    "                    'had', 'has', 'have', 'he', 'her', 'hers', 'him', 'his',\\\n",
    "                    'how', 'however', 'i', 'if', 'in', 'into', 'is', 'it', 'its',\\\n",
    "                    'just', 'least', 'let', 'like', 'likely', 'may', 'me', 'might',\\\n",
    "                    'most', 'must', 'my', 'neither', 'no', 'nor', 'not', 'of', 'off',\\\n",
    "                    'often' ,'on' ,'only', 'or', 'other', 'our', 'own', 'rather',\\\n",
    "                    'said', 'say', 'says', 'she', 'should', 'since', 'so', 'some',\\\n",
    "                    'than', 'that', 'the', 'their', 'them', 'then', 'there',\\\n",
    "                    'these', 'they', 'this', 'tis', 'to', 'too', 'twas', 'us',\\\n",
    "                    'wants', 'was', 'we', 'were', 'what', 'when', 'where', 'which',\\\n",
    "                    'while', 'who', 'whom', 'why', 'will', 'with', 'would', 'yet',\\\n",
    "                    'you', 'your']"
   ]
  },
  {
   "cell_type": "code",
   "execution_count": 3,
   "metadata": {
    "collapsed": true
   },
   "outputs": [],
   "source": [
    "# To Peform feature generation, follow these steps\n",
    "\n",
    "# I) Create word features for each documents\n",
    "# for each documents:  \n",
    "#     i) Break the whole text into words\n",
    "#     ii) Change all words to lower cases\n",
    "#     iii) Remove all punctuations and non alphabet characters\n",
    "#     iv) Apply Porter stemmer to each words\n",
    "    \n",
    "# II) Count the number of occurrences of each word in the whole set of documents \n",
    "#     and discard stems that do not occur in 1.5% of whole set of documents\n",
    "#     and also discard stems that occur in over 90% of whole set of documents"
   ]
  },
  {
   "cell_type": "markdown",
   "metadata": {},
   "source": [
    "First, define the path for data"
   ]
  },
  {
   "cell_type": "code",
   "execution_count": 30,
   "metadata": {
    "collapsed": true
   },
   "outputs": [],
   "source": [
    "related_data_path = './data/related'\n",
    "not_related_data_path = './data/not_related'\n",
    "sampled_not_related_data_path = './data/sampled_not_related'"
   ]
  },
  {
   "cell_type": "markdown",
   "metadata": {},
   "source": [
    "Define few helper functions"
   ]
  },
  {
   "cell_type": "code",
   "execution_count": 5,
   "metadata": {
    "collapsed": true
   },
   "outputs": [],
   "source": [
    "def replacer(line, replacing):\n",
    "    return ''.join(\" \" if s in replacing else s for s in line)"
   ]
  },
  {
   "cell_type": "code",
   "execution_count": 32,
   "metadata": {
    "collapsed": true
   },
   "outputs": [],
   "source": [
    "def file_counter(source_dir):\n",
    "    \n",
    "    txt_file_count = 0\n",
    "    \n",
    "    # Go into given directory\n",
    "    if os.path.isdir(source_dir):\n",
    "\n",
    "        # Iterate through all text file\n",
    "        for file in os.listdir(source_dir):\n",
    "            # Select files that are end with .txt\n",
    "            if file.endswith(\".txt\"):\n",
    "                txt_file_count += 1\n",
    "   \n",
    "    return txt_file_count"
   ]
  },
  {
   "cell_type": "code",
   "execution_count": 6,
   "metadata": {
    "collapsed": false
   },
   "outputs": [],
   "source": [
    "def feature_selector(source_dir_lst):\n",
    "    \n",
    "    # Create a counter class for word counts\n",
    "    word_occurence_counter = Counter()\n",
    "    \n",
    "    # Initiate a Porter Stemmer Class\n",
    "    porter_stemmer = PorterStemmer()\n",
    "    \n",
    "    # Iterate through all source directory in source_dir_lst\n",
    "    for source_dir in source_dir_lst:\n",
    "        \n",
    "        # Go into given directory\n",
    "        if os.path.isdir(source_dir):\n",
    "        \n",
    "            print(\"Selecting words for \" + source_dir + \" directory\")\n",
    "        \n",
    "            # Iterate through all text file\n",
    "            for file in os.listdir(source_dir):\n",
    "                # Select files that are end with .txt\n",
    "                if file.endswith(\".txt\"):\n",
    "                    # Open the file\n",
    "                    f = open(source_dir+'/'+file,'r') \n",
    "                    # Read in all lines from the file\n",
    "                    lines = f.readlines()\n",
    "                    # Converting all letters to lowercase.\n",
    "                    lines = \"\".join([x.lower() for x in lines])\n",
    "                    # Replacing non character words\n",
    "                    lines = replacer(lines, non_alphabet_char)\n",
    "                    # Split texts into words by empty space\n",
    "                    lines = lines.split()\n",
    "                    # Remove common words\n",
    "                    lines = [i for i in lines if i not in common_words_list]\n",
    "                    # Remove any words that are made of 2 letters or less\n",
    "                    lines = [i for i in lines if len(i)>3]\n",
    "                    # Apply Porter stemmer for all the words we have\n",
    "                    lines = [porter_stemmer.stem(word) for word in lines]\n",
    "                    # Add current occurence of words to the total occurence counter\n",
    "                    word_occurence_counter = word_occurence_counter + Counter({word:1 for word in Counter(lines)})\n",
    "                    # Close the file when done with it\n",
    "                    f.close()\n",
    "           \n",
    "    return word_occurence_counter"
   ]
  },
  {
   "cell_type": "code",
   "execution_count": 85,
   "metadata": {
    "collapsed": true
   },
   "outputs": [],
   "source": [
    "def occurence_checker(curr_counter, source_dir_lst):\n",
    "    \n",
    "    txt_file_count = 0\n",
    "    \n",
    "    # Iterate through all source directory in source_dir_lst to count the number of txt files\n",
    "    for source_dir in source_dir_lst:\n",
    "        \n",
    "        # Go into given directory\n",
    "        if os.path.isdir(source_dir):\n",
    "                \n",
    "            # Iterate through all text file\n",
    "            for file in os.listdir(source_dir):\n",
    "                # Select files that are end with .txt\n",
    "                if file.endswith(\".txt\"):\n",
    "                    txt_file_count += 1\n",
    "\n",
    "    too_small_count = round((txt_file_count/200)*3)\n",
    "    too_many_count = round((txt_file_count/10)*9)\n",
    "    \n",
    "    return [word for word in curr_counter if curr_counter[word]>too_small_count and curr_counter[word]<too_many_count]"
   ]
  },
  {
   "cell_type": "markdown",
   "metadata": {},
   "source": [
    "Since we have only 149 related documents where the number of unrelated documents is over 20000, we randomly select 500 unrelated documents to create a feature set.  \n",
    "To do this, create a method that generates random indexes within given range."
   ]
  },
  {
   "cell_type": "code",
   "execution_count": 35,
   "metadata": {
    "collapsed": true
   },
   "outputs": [],
   "source": [
    "def random_index(numb_ind, start_range, end_range):\n",
    "    return random.sample(range(start_range, end_range), numb_ind) "
   ]
  },
  {
   "cell_type": "markdown",
   "metadata": {},
   "source": [
    "Also, define a method that copies sample file into new directory with given a list of indexes."
   ]
  },
  {
   "cell_type": "code",
   "execution_count": 52,
   "metadata": {
    "collapsed": false
   },
   "outputs": [],
   "source": [
    "def make_new_unrelated_dir(unrelated_source_dir, new_source_dir, index_lst):\n",
    "    \n",
    "    count = 0\n",
    "    \n",
    "    # Delete existing new source directory\n",
    "    if os.path.exists(new_source_dir): \n",
    "        shutil.rmtree(new_source_dir)\n",
    "    \n",
    "    # Create a new directory\n",
    "    os.makedirs(new_source_dir)\n",
    "        \n",
    "    # Go into given directory\n",
    "    if os.path.isdir(unrelated_source_dir):\n",
    "\n",
    "        # Iterate through all text file\n",
    "        for file in os.listdir(unrelated_source_dir):\n",
    "            # Select files that are end with .txt and check if it is in index_lst\n",
    "            if file.endswith(\".txt\") and count in index_lst:\n",
    "                curr_path = unrelated_source_dir+'/'+file\n",
    "                new_path = new_source_dir+'/'+file\n",
    "                shutil.copyfile(curr_path, new_path)\n",
    "                \n",
    "            count += 1"
   ]
  },
  {
   "cell_type": "markdown",
   "metadata": {},
   "source": [
    "Now create a new not-related txt directory with sample indexes"
   ]
  },
  {
   "cell_type": "code",
   "execution_count": 76,
   "metadata": {
    "collapsed": false
   },
   "outputs": [],
   "source": [
    "sample_index = random_index(500, 0, file_counter(not_related_data_path))\n",
    "make_new_unrelated_dir(not_related_data_path, sampled_not_related_data_path, sample_index)"
   ]
  },
  {
   "cell_type": "markdown",
   "metadata": {
    "collapsed": true
   },
   "source": [
    "Finally, we generate the feature set"
   ]
  },
  {
   "cell_type": "code",
   "execution_count": 78,
   "metadata": {
    "collapsed": false
   },
   "outputs": [
    {
     "name": "stdout",
     "output_type": "stream",
     "text": [
      "Selecting words for ./data/related directory\n",
      "Selecting words for ./data/sampled_not_related directory\n"
     ]
    }
   ],
   "source": [
    "# First, perform step I)\n",
    "before_trimmed = feature_selector([related_data_path, sampled_not_related_data_path])"
   ]
  },
  {
   "cell_type": "code",
   "execution_count": 86,
   "metadata": {
    "collapsed": false
   },
   "outputs": [],
   "source": [
    "# First, perform step II)\n",
    "after_trimmed = occurence_checker(before_trimmed, [related_data_path, sampled_not_related_data_path])"
   ]
  },
  {
   "cell_type": "markdown",
   "metadata": {},
   "source": [
    "Check how large is the feature set. Acceptable size is between 2500 and 4000"
   ]
  },
  {
   "cell_type": "code",
   "execution_count": 92,
   "metadata": {
    "collapsed": false
   },
   "outputs": [
    {
     "data": {
      "text/plain": [
       "3108"
      ]
     },
     "execution_count": 92,
     "metadata": {},
     "output_type": "execute_result"
    }
   ],
   "source": [
    "len(after_trimmed)"
   ]
  },
  {
   "cell_type": "markdown",
   "metadata": {},
   "source": [
    "Now output the feature set as csv file"
   ]
  },
  {
   "cell_type": "code",
   "execution_count": 93,
   "metadata": {
    "collapsed": false
   },
   "outputs": [],
   "source": [
    "output_csv = open(\"./features.csv\",\"w\")\n",
    "writer = csv.writer(output_csv, quoting=csv.QUOTE_ALL)\n",
    "writer.writerow(after_trimmed)\n",
    "output_csv.close()"
   ]
  }
 ],
 "metadata": {
  "kernelspec": {
   "display_name": "Python [Root]",
   "language": "python",
   "name": "Python [Root]"
  },
  "language_info": {
   "codemirror_mode": {
    "name": "ipython",
    "version": 3
   },
   "file_extension": ".py",
   "mimetype": "text/x-python",
   "name": "python",
   "nbconvert_exporter": "python",
   "pygments_lexer": "ipython3",
   "version": "3.5.2"
  }
 },
 "nbformat": 4,
 "nbformat_minor": 0
}
