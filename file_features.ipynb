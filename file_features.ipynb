{
 "cells": [
  {
   "cell_type": "code",
   "execution_count": 14,
   "metadata": {
    "collapsed": true
   },
   "outputs": [],
   "source": [
    "import sys, getopt, os, csv, re\n",
    "import numpy as np\n",
    "import random\n",
    "import shutil\n",
    "from collections import Counter\n",
    "from multiprocessing import Pool\n",
    "from nltk.stem import *\n",
    "from nltk.corpus import PlaintextCorpusReader"
   ]
  },
  {
   "cell_type": "code",
   "execution_count": 15,
   "metadata": {
    "collapsed": false
   },
   "outputs": [],
   "source": [
    "feature_list = []\n",
    "with open('features.csv', 'r') as f:\n",
    "    reader = csv.reader(f)\n",
    "    dummy = list(reader)\n",
    "    feature_list = dummy[0]"
   ]
  },
  {
   "cell_type": "code",
   "execution_count": null,
   "metadata": {
    "collapsed": false
   },
   "outputs": [],
   "source": [
    "related_data_path = './data/related'\n",
    "not_related_data_path = './data/not_related'\n",
    "sampled_not_related_data_path = './data/sampled_not_related'\n",
    "\n",
    "corpus_root = \"./data/\"\n",
    "all_articles = PlaintextCorpusReader(corpus_root, '.*txt')\n",
    "\n",
    "\n",
    "def porterstemmer(wordlist):\n",
    "    returnlist = []\n",
    "    porter_stemmer = PorterStemmer() \n",
    "    for word in wordlist:\n",
    "        returnlist.append(porter_stemmer.stem(word))\n",
    "    return returnlist\n",
    "\n",
    "docs_toks = [(all_articles.words(fileid))\n",
    "               for fileid in (all_articles.fileids()[:10000])]\n",
    "docs_total = [(porterstemmer(wordlist)) for (wordlist) in docs_toks]\n"
   ]
  },
  {
   "cell_type": "code",
   "execution_count": null,
   "metadata": {
    "collapsed": false
   },
   "outputs": [
    {
     "name": "stderr",
     "output_type": "stream",
     "text": [
      "/Library/Frameworks/Python.framework/Versions/2.7/lib/python2.7/site-packages/ipykernel/__main__.py:4: UnicodeWarning: Unicode equal comparison failed to convert both arguments to Unicode - interpreting them as being unequal\n"
     ]
    }
   ],
   "source": [
    "def document_features(doc_toks):\n",
    "    features = {}\n",
    "    for word in doc_toks:\n",
    "        if word in feature_list:\n",
    "            key = 'freq({})'.format(word)\n",
    "            features[key] = (features.get(key, 0) + 1)\n",
    "    return features\n",
    "featuresets = [(document_features(wordlist)) for wordlist in docs_total]\n",
    "with open('freq', 'wb') as myfile:\n",
    "    wr = csv.writer(myfile, quoting=csv.QUOTE_ALL)\n",
    "    wr.writerow(featuresets)"
   ]
  },
  {
   "cell_type": "code",
   "execution_count": null,
   "metadata": {
    "collapsed": true
   },
   "outputs": [],
   "source": []
  }
 ],
 "metadata": {
  "kernelspec": {
   "display_name": "Python 2",
   "language": "python",
   "name": "python2"
  },
  "language_info": {
   "codemirror_mode": {
    "name": "ipython",
    "version": 2
   },
   "file_extension": ".py",
   "mimetype": "text/x-python",
   "name": "python",
   "nbconvert_exporter": "python",
   "pygments_lexer": "ipython2",
   "version": "2.7.12"
  }
 },
 "nbformat": 4,
 "nbformat_minor": 1
}
