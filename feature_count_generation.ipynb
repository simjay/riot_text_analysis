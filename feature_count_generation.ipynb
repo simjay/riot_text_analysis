{
 "cells": [
  {
   "cell_type": "markdown",
   "metadata": {},
   "source": [
    "# Riot URAP Text Analysis\n",
    "# Feature Count Generation\n",
    "### Author : Jaehyun Sim"
   ]
  },
  {
   "cell_type": "markdown",
   "metadata": {},
   "source": [
    "Import Required libraries"
   ]
  },
  {
   "cell_type": "code",
   "execution_count": 1,
   "metadata": {
    "collapsed": true
   },
   "outputs": [],
   "source": [
    "import sys, getopt, os, csv, re\n",
    "import numpy as np\n",
    "import random\n",
    "import shutil\n",
    "from collections import Counter\n",
    "from nltk.stem import *"
   ]
  },
  {
   "cell_type": "markdown",
   "metadata": {},
   "source": [
    "Define all common words and non alphabet characters"
   ]
  },
  {
   "cell_type": "code",
   "execution_count": 2,
   "metadata": {
    "collapsed": true
   },
   "outputs": [],
   "source": [
    "non_alphabet_char = [\",\", \".\", \"\\'\", \"\\\"\", \"\\n\", \"\\r\", \"?\", \"!\", \"[\", \"]\", \"(\", \")\", \"{\", \"}\", \"-\", \"_\", \\\n",
    "                     \"#\", \"~\", \"`\", \"@\", \"$\", \"%\", \"^\", \"&\", \"*\", \"+\", \"=\", \"<\", \">\", \"/\", \":\", \";\", \"|\", \\\n",
    "                     \"■\", \"•\", \"\\\\\", \"\\ufeff\", \"“\", \"’\", \"®\", \"©\", \"—\", \"”\"]\n",
    "\n",
    "common_words_list = ['a', 'able', 'about', 'across', 'after', 'all',\\\n",
    "                    'almost', 'also', 'am', 'among', 'an', 'and', 'any',\\\n",
    "                    'are','as', 'at', 'be', 'because', 'been', 'but', 'by',\\\n",
    "                    'can', 'cannot', 'could', 'dear', 'did', 'do', 'does',\\\n",
    "                    'either', 'else', 'ever', 'every', 'for', 'from', 'get', 'got',\\\n",
    "                    'had', 'has', 'have', 'he', 'her', 'hers', 'him', 'his',\\\n",
    "                    'how', 'however', 'i', 'if', 'in', 'into', 'is', 'it', 'its',\\\n",
    "                    'just', 'least', 'let', 'like', 'likely', 'may', 'me', 'might',\\\n",
    "                    'most', 'must', 'my', 'neither', 'no', 'nor', 'not', 'of', 'off',\\\n",
    "                    'often' ,'on' ,'only', 'or', 'other', 'our', 'own', 'rather',\\\n",
    "                    'said', 'say', 'says', 'she', 'should', 'since', 'so', 'some',\\\n",
    "                    'than', 'that', 'the', 'their', 'them', 'then', 'there',\\\n",
    "                    'these', 'they', 'this', 'tis', 'to', 'too', 'twas', 'us',\\\n",
    "                    'wants', 'was', 'we', 'were', 'what', 'when', 'where', 'which',\\\n",
    "                    'while', 'who', 'whom', 'why', 'will', 'with', 'would', 'yet',\\\n",
    "                    'you', 'your']"
   ]
  },
  {
   "cell_type": "markdown",
   "metadata": {},
   "source": [
    "Define the path for data"
   ]
  },
  {
   "cell_type": "code",
   "execution_count": 3,
   "metadata": {
    "collapsed": true
   },
   "outputs": [],
   "source": [
    "related_data_path = './data/related'\n",
    "not_related_data_path = './data/not_related'\n",
    "related_train_data_path = './data/related_train'\n",
    "related_test_data_path = './data/related_test'\n",
    "not_related_train_data_path = './data/not_related_train'\n",
    "not_related_test_data_path = './data/not_related_test'\n",
    "features_csv = './features.csv'"
   ]
  },
  {
   "cell_type": "markdown",
   "metadata": {},
   "source": [
    "Define few helper functions"
   ]
  },
  {
   "cell_type": "code",
   "execution_count": 4,
   "metadata": {
    "collapsed": true
   },
   "outputs": [],
   "source": [
    "def replacer(line, replacing):\n",
    "    return ''.join(\" \" if s in replacing else s for s in line)\n",
    "\n",
    "def file_counter(source_dir):\n",
    "    \n",
    "    txt_file_count = 0\n",
    "    \n",
    "    # Go into given directory\n",
    "    if os.path.isdir(source_dir):\n",
    "\n",
    "        # Iterate through all text file\n",
    "        for file in os.listdir(source_dir):\n",
    "            # Select files that are end with .txt\n",
    "            if file.endswith(\".txt\"):\n",
    "                txt_file_count += 1\n",
    "   \n",
    "    return txt_file_count"
   ]
  },
  {
   "cell_type": "markdown",
   "metadata": {},
   "source": [
    "Load features into workspace"
   ]
  },
  {
   "cell_type": "code",
   "execution_count": 5,
   "metadata": {
    "collapsed": true
   },
   "outputs": [],
   "source": [
    "with open(features_csv, 'r') as f:\n",
    "    reader = csv.reader(f)\n",
    "    features = list(reader)[0]\n",
    "f.close()"
   ]
  },
  {
   "cell_type": "markdown",
   "metadata": {},
   "source": [
    "Define feature occurence counter method"
   ]
  },
  {
   "cell_type": "code",
   "execution_count": 8,
   "metadata": {
    "collapsed": false
   },
   "outputs": [],
   "source": [
    "def feature_counter(input_features, source_dir_lst, output_filename):\n",
    "    \n",
    "    # Create a counter class for word counts\n",
    "    word_occurence_counter = {word:0 for word in input_features}\n",
    "    \n",
    "    # Initiate a Porter Stemmer Class\n",
    "    porter_stemmer = PorterStemmer()\n",
    "    \n",
    "    # Open output csv file and write the first row\n",
    "    output_csv = open(\"./\"+ output_filename +\".csv\",\"w\")\n",
    "    writer = csv.writer(output_csv, quoting=csv.QUOTE_ALL)\n",
    "    first_row = input_features + [\"_label_\"]\n",
    "    writer.writerow(first_row)\n",
    "    \n",
    "    # Iterate through all source directory in source_dir_lst\n",
    "    for source_dir in source_dir_lst:\n",
    "        \n",
    "        # Go into given directory\n",
    "        if os.path.isdir(source_dir):\n",
    "        \n",
    "            print(\"Counting words for \" + source_dir + \" directory\")\n",
    "            \n",
    "            if source_dir in [related_train_data_path, related_test_data_path]:\n",
    "                curr_label = 1\n",
    "            if source_dir in [not_related_train_data_path, not_related_test_data_path]:\n",
    "                curr_label = 0\n",
    "        \n",
    "            # Iterate through all text file\n",
    "            for file in os.listdir(source_dir):\n",
    "                # Select files that are end with .txt\n",
    "                if file.endswith(\".txt\"):\n",
    "                    # Open the file\n",
    "                    f = open(source_dir+'/'+file,'r') \n",
    "                    # Read in all lines from the file\n",
    "                    lines = f.readlines()\n",
    "                    # Converting all letters to lowercase.\n",
    "                    lines = \"\".join([x.lower() for x in lines])\n",
    "                    # Replacing non character words\n",
    "                    lines = replacer(lines, non_alphabet_char)\n",
    "                    # Split texts into words by empty space\n",
    "                    lines = lines.split()\n",
    "                    # Remove common words\n",
    "                    lines = [i for i in lines if i not in common_words_list]\n",
    "                    # Remove any words that are made of 2 letters or less\n",
    "                    lines = [i for i in lines if len(i)>3]\n",
    "                    # Apply Porter stemmer for all the words we have\n",
    "                    lines = [porter_stemmer.stem(word) for word in lines]\n",
    "                    # Count the occurence of words that are in the feature set\n",
    "                    curr_count = [0 for i in input_features]\n",
    "                    \n",
    "                    for word in lines:\n",
    "                        if word in input_features:\n",
    "                            curr_count[input_features.index(word)] += 1\n",
    "                    \n",
    "                    curr_row = curr_count + [curr_label]\n",
    "                    \n",
    "                    writer.writerow(curr_row)         \n",
    "                            \n",
    "                    # Close the file when done with it\n",
    "                    f.close()\n",
    "                    \n",
    "    output_csv.close()       "
   ]
  },
  {
   "cell_type": "markdown",
   "metadata": {},
   "source": [
    "Now, count the features for trainset"
   ]
  },
  {
   "cell_type": "code",
   "execution_count": 9,
   "metadata": {
    "collapsed": false
   },
   "outputs": [
    {
     "name": "stdout",
     "output_type": "stream",
     "text": [
      "Counting words for ./data/related_train directory\n",
      "Counting words for ./data/not_related_train directory\n"
     ]
    }
   ],
   "source": [
    "feature_counter(features, [related_train_data_path, not_related_train_data_path], \"trainset\")"
   ]
  },
  {
   "cell_type": "markdown",
   "metadata": {
    "collapsed": true
   },
   "source": [
    "Now, count the features for testset"
   ]
  },
  {
   "cell_type": "code",
   "execution_count": 10,
   "metadata": {
    "collapsed": false
   },
   "outputs": [
    {
     "name": "stdout",
     "output_type": "stream",
     "text": [
      "Counting words for ./data/related_test directory\n",
      "Counting words for ./data/not_related_test directory\n"
     ]
    }
   ],
   "source": [
    "feature_counter(features, [related_test_data_path, not_related_test_data_path], \"testset\")"
   ]
  },
  {
   "cell_type": "code",
   "execution_count": null,
   "metadata": {
    "collapsed": true
   },
   "outputs": [],
   "source": []
  }
 ],
 "metadata": {
  "anaconda-cloud": {},
  "kernelspec": {
   "display_name": "Python [Root]",
   "language": "python",
   "name": "Python [Root]"
  },
  "language_info": {
   "codemirror_mode": {
    "name": "ipython",
    "version": 3
   },
   "file_extension": ".py",
   "mimetype": "text/x-python",
   "name": "python",
   "nbconvert_exporter": "python",
   "pygments_lexer": "ipython3",
   "version": "3.5.2"
  }
 },
 "nbformat": 4,
 "nbformat_minor": 0
}
